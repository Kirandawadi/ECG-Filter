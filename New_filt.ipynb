{
 "cells": [
  {
   "cell_type": "code",
   "execution_count": 1,
   "metadata": {},
   "outputs": [
    {
     "name": "stdout",
     "output_type": "stream",
     "text": [
      "Using matplotlib backend: Qt5Agg\n"
     ]
    }
   ],
   "source": [
    "import matplotlib.pyplot as plt\n",
    "%matplotlib"
   ]
  },
  {
   "cell_type": "code",
   "execution_count": 2,
   "metadata": {},
   "outputs": [],
   "source": [
    "f = open('to_filter.txt','r')"
   ]
  },
  {
   "cell_type": "code",
   "execution_count": 3,
   "metadata": {},
   "outputs": [
    {
     "name": "stdout",
     "output_type": "stream",
     "text": [
      "[3, 240, 31, 262, 438, 335, 242, 395, 374, 249, 441, 313, 235, 418, 351, 244, 360, 388, 255, 434, 330, 240, 3, 262, 438, 335, 242, 395, 374, 249, 441, 313, 235, 418, 351, 244, 360, 388, 255, 434, 330, 240, 3, 398, 431, 414, 383, 349, 300, 268, 247, 232, 221, 345, 418, 430, 363, 238, 433, 299, 220, 411, 340, 231, 351, 377, 240, 427, 317, 225, 388, 361, 235, 434, 299, 222, 414, 338, 231, 358, 382, 249, 436, 324, 234, 398, 367, 243, 435, 299, 221, 415, 336, 231, 359, 377, 241, 447, 370, 332, 504, 411, 189, 355, 244, 195, 409, 340, 242, 376, 390, 258, 447, 332, 248, 419, 380, 263, 459, 325, 254, 449, 368, 271, 406, 419, 291, 482, 370, 291, 464, 423, 313, 513, 380, 314, 506, 420, 322, 455, 455, 319, 497, 373, 281, 449, 393, 270, 461, 319, 243, 443, 349, 246, 389, 389, 254, 449, 328, 241, 422, 368, 251, 453, 311, 238, 442, 347, 247, 393, 390, 256, 454, 326, 240, 421, 364, 247, 449, 309, 235, 439, 339, 239, 391, 383, 249, 446, 318, 234, 419, 359, 244, 447, 300, 229, 436, 337, 238, 392, 379, 248, 447, 315, 232, 421, 357, 242, 356, 394, 252, 437, 334, 237, 397, 378, 247, 451, 320, 239, 429, 362, 249, 365, 398, 253, 440, 332, 237, 398, 377, 247, 445, 318, 270, 495, 463, 352, 391, 335, 166, 392, 310, 234, 407, 384, 259, 461, 329, 253, 447, 373, 267, 391, 419, 283, 473, 361, 274, 440, 413, 292, 494, 362, 292, 486, 411, 314, 442, 466, 335, 523, 413, 327, 489, 450, 328, 518, 376, 296, 481, 392, 281, 407, 415, 272, 459, 340, 250, 419, 378, 255, 454, 317, 241, 440, 353, 249, 385, 396, 260, 453, 334, 246, 420, 372, 251, 454, 313, 238, 439, 348, 245, 385, 390, 253, 448, 326, 239, 415, 364, 244, 447, 306, 232, 434, 340, 239, 385, 383, 247, 442, 318, 233, 412, 360, 243, 446, 299, 228, 433, 337, 237, 385, 381, 247, 444, 316, 234, 420, 365, 250, 451, 306, 235, 438, 337, 238, 391, 379, 246, 442, 313, 232, 419, 364, 284, 541, 411, 276, 399, 247, 151, 338, 352, 244, 451, 324, 246, 433, 368, 259, 374, 414, 275, 458, 355, 266, 423, 404, 281, 479, 351, 278, 467, 399, 298, 415, 453, 321, 508, 406, 324, 476, 454, 334, 525, 392, 316, 493, 412, 301, 412, 432, 288, 464, 351, 258, 415, 383, 257, 451, 314, 239, 429, 351, 246, 370, 394, 257, 445, 329, 241, 406, 373, 252, 450, 315, 241, 432, 349, 245, 374, 391, 254, 441, 326, 239, 405, 365, 244, 443, 305, 231, 426, 340, 238, 370, 381, 246, 436, 316, 231, 401, 359, 240, 438, 299, 228, 423, 335, 234, 371, 377, 244, 433, 314, 230, 402, 354, 238, 441, 302, 234, 431, 339, 241, 379, 381, 247, 435, 310, 227, 403, 352, 235, 435, 295, 240, 468, 420, 356, 458, 350, 153, 366, 272, 212, 405, 357, 247, 449, 305, 239, 439, 344, 251, 396, 393, 266, 460, 333, 258, 438, 382, 276, 476, 338, 276, 478, 381, 297, 446, 438, 318, 512, 386, 317, 490, 427, 319, 508, 357, 288, 479, 368, 271, 415, 392, 262, 449, 314, 236, 418, 349, 239, 352, 386, 248, 430, 323, 233, 391, 368, 242, 439, 307, 231, 418, 345, 239, 356, 385, 248, 431, 320, 231, 391, 361, 237, 433, 299, 224, 414, 336, 232, 352, 377, 240, 426, 316, 228, 391, 357, 234, 431, 296, 222, 413, 334, 230, 357, 376, 240, 429, 313, 226, 392, 356, 236, 433, 297, 221, 417, 333, 235, 366, 383, 247, 436, 319, 231, 399, 354, 234, 436, 295, 223, 419, 331, 232, 376, 423, 344, 542, 332, 154, 312, 281, 193, 428, 302, 238, 438, 348, 251, 389, 397, 265, 458, 337, 258, 430, 383, 270, 472, 333, 268, 465, 376, 285, 426, 431, 308, 502, 383, 310, 485, 436, 329, 523, 380, 315, 506, 406, 310, 445, 433, 297, 479, 345, 261, 433, 373, 258, 455, 307, 239, 440, 339, 245, 394, 385, 257, 450, 320, 242, 425, 363, 252, 451, 307, 240, 443, 339, 246, 398, 383, 252, 447, 317, 239, 424, 357, 246, 359, 395, 254, 439, 332, 239, 395, 376, 249, 445, 311, 235, 423, 352, 243, 359, 391, 251, 437, 328, 238, 397, 373, 246, 444, 307, 234, 426, 354, 249, 370, 397, 258, 445, 329, 237, 400, 369, 245, 443, 307, 232, 426, 351, 275, 436, 498, 351, 416, 249, 155, 351, 341, 237, 452, 315, 243, 438, 358, 255, 385, 404, 269, 463, 345, 261, 430, 393, 274, 477, 340, 273, 470, 385, 290, 425, 443, 312, 508, 393, 316, 482, 442, 327, 524, 379, 307, 495, 401, 296, 422, 423, 283, 468, 339, 251, 423, 375, 254, 453, 308, 236, 437, 341, 241, 383, 387, 252, 449, 323, 240, 418, 366, 248, 453, 307, 236, 439, 340, 242, 385, 385, 251, 447, 317, 234, 414, 357, 240, 445, 298, 228, 433, 331, 234, 384, 376, 243, 442, 310, 230, 413, 351, 237, 442, 294, 225, 433, 328, 232, 384, 375, 243, 443, 306, 228, 413, 349, 240, 447, 301, 234, 441, 332, 238, 393, 375, 241, 442, 308, 229, 418, 347, 238, 368, 448, 351, 527, 324, 151, 308, 315, 214, 443, 313, 239, 431, 360, 252, 373, 407, 267, 457, 345, 256, 419, 396, 271, 474, 339, 267, 461, 388, 287, 410, 442, 308, 503, 393, 313, 476, 448, 330, 529, 388, 316, 502, 417, 309, 427, 442, 296, 475, 352, 260, 424, 383, 256, 456, 311, 237, 435, 351, 246, 377, 393, 253, 449, 328, 241, 413, 372, 250, 454, 312, 239, 438, 348, 244, 379, 392, 253, 447, 326, 238, 413, 365, 243, 447, 302, 230, 432, 341, 239, 379, 384, 246, 444, 318, 232, 411, 361, 240, 445, 299, 229, 433, 336, 237, 380, 382, 246, 443, 319, 235, 414, 360, 243, 448, 301, 232, 438, 342, 247, 395, 391, 256, 454, 320, 236, 417, 358, 243, 448, 303, 234, 445, 368, 326, 499, 486, 254, 365, 235, 180, 395, 351, 250, 459, 313, 248, 456, 352, 260, 413, 401, 271, 473, 341, 265, 451, 388, 279, 486, 342, 280, 489, 384, 297, 453, 441, 319, 521, 393, 322, 505, 434, 328, 439, 475, 329, 506, 390, 293, 442, 414, 280, 475, 330, 251, 441, 365, 254, 372, 404, 262, 451, 337, 246, 410, 383, 255, 457, 319, 243, 437, 359, 252, 376, 402, 260, 451, 336, 245, 410, 378, 252, 455, 314, 238, 433, 351, 243, 371, 393, 251, 445, 328, 239, 409, 371, 246, 450, 307, 232, 430, 347, 241, 373, 390, 249, 445, 322, 235, 400, 363, 241, 447, 304, 233, 434, 343, 241, 376, 391, 253, 450, 326, 240, 413, 365, 241, 448, 302, 230, 432, 341, 244, 402, 455, 363, 521, 299, 147, 332, 309, 217, 447, 306, 239, 445, 350, 252, 395, 400, 264, 464, 337, 256, 437, 384, 268, 476, 331, 266, 471, 375, 283, 430, 431, 303, 507, 381, 309, 488, 434, 325, 527, 377, 310, 508, 401, 304, 442, 429, 288, 477, 339, 255, 435, 367, 251, 456, 304, 235, 441, 334, 239, 392, 381, 248, 450, 314, 236, 424, 357, 245, 452, 301, 234, 445, 334, 241, 397, 378, 247, 449, 314, 235, 424, 350, 239, 357, 395, 251, 440, 328, 234, 394, 370, 241, 445, 304, 227, 419, 345, 235, 356, 388, 244, 437, 321, 230, 394, 367, 239, 443, 304, 228, 423, 341, 233, 359, 387, 243, 436, 321, 232, 400, 365, 240, 448, 306, 233, 430, 348, 240, 367, 386, 241, 439, 317, 229, 399, 363, 244, 494, 393, 351, 502, 314, 149, 292, 340, 224, 445, 328, 243, 418, 377, 256, 463, 319, 249, 450, 361, 262, 398, 413, 276, 476, 353, 273, 447, 405, 290, 500, 358, 296, 498, 409, 316, 453, 464, 332, 526, 399, 318, 487, 433, 312, 505, 350, 274, 469, 365, 263, 400, 401, 261, 459, 325, 242, 421, 367, 249, 456, 308, 240, 445, 342, 245, 392, 391, 256, 456, 323, 242, 425, 365, 249, 456, 303, 235, 442, 338, 242, 392, 383, 249, 450, 313, 234, 419, 356, 242, 449, 300, 231, 440, 329, 234, 389, 377, 244, 447, 311, 232, 421, 350, 238, 447, 294, 229, 439, 330, 237, 396, 375, 245, 449, 309, 233, 424, 352, 244, 360, 398, 254, 448, 335, 245, 406, 382, 250, 452, 310, 234, 427, 348, 240, 363, 396, 258, 490, 422, 368, 486, 351, 155, 379, 268, 218, 429, 356, 253, 379, 408, 267, 464, 345, 258, 426, 394, 272, 478, 335, 266, 463, 380, 280, 411, 436, 299, 498, 381, 303, 473, 439, 324, 528, 384, 320, 512, 425, 325, 450, 462, 317, 502, 368, 279, 444, 394, 268, 470, 319, 246, 445, 350, 247, 385, 394, 254, 452, 325, 242, 420, 370, 249, 457, 307, 238, 441, 347, 247, 388, 392, 253, 451, 322, 240, 416, 367, 247, 453, 301, 232, 437, 335, 236, 381, 383, 246, 446, 313, 232, 414, 355, 238]\n"
     ]
    }
   ],
   "source": [
    "c = f.readlines()\n",
    "data = [int(i[:-1]) for i in c]\n",
    "print(data)"
   ]
  },
  {
   "cell_type": "code",
   "execution_count": 4,
   "metadata": {},
   "outputs": [
    {
     "data": {
      "text/plain": [
       "[<matplotlib.lines.Line2D at 0x7f4c7aea2390>]"
      ]
     },
     "execution_count": 4,
     "metadata": {},
     "output_type": "execute_result"
    },
    {
     "data": {
      "image/png": "[encoded data removed]",
      "text/plain": [
       "<Figure size 432x288 with 1 Axes>"
      ]
     },
     "metadata": {
      "needs_background": "light"
     },
     "output_type": "display_data"
    }
   ],
   "source": [
    "f = plt.figure(1)\n",
    "plt.plot(data)"
   ]
  },
  {
   "cell_type": "code",
   "execution_count": 202,
   "metadata": {},
   "outputs": [],
   "source": [
    "# Required input defintions are as follows;\n",
    "# time:   Time between samples\n",
    "# band:   The bandwidth around the centerline freqency that you wish to filter\n",
    "# freq:   The centerline frequency to be filtered\n",
    "# ripple: The maximum passband ripple that is allowed in db.\n",
    "         # For Chebyshev and elliptic filters, provides the maximum ripple in the passband. (dB)\n",
    "# order:  The filter order.  For FIR notch filters this is best set to 2 or 3,\n",
    "#         IIR filters are best suited for high values of order.  This algorithm\n",
    "#         is hard coded to FIR filters\n",
    "# filter_type: 'butter', 'bessel', 'cheby1', 'cheby2', 'ellip'\n",
    "# data:         the data to be filtered\n",
    "def Implement_Notch_Filter(time, band, freq, ripple, order, filter_type, data):\n",
    "    from scipy.signal import iirfilter\n",
    "    from scipy.signal import lfilter\n",
    "    fs   = 3000.0\n",
    "    nyq  = fs/2.0\n",
    "    low  = freq - band/2.0\n",
    "    high = freq + band/2.0\n",
    "    low  = low/nyq\n",
    "    high = high/nyq\n",
    "    b, a = iirfilter(order, [low, high], rp=ripple, btype='bandstop',\n",
    "                     analog=False, ftype='butter')\n",
    "    filtered_data = lfilter(b, a, data)\n",
    "    return filtered_data"
   ]
  },
  {
   "cell_type": "code",
   "execution_count": 203,
   "metadata": {},
   "outputs": [
    {
     "name": "stdout",
     "output_type": "stream",
     "text": [
      "[  2.95589852 236.38483076  23.49593251 ... 398.17781834 337.64205371\n",
      " 221.90829376]\n"
     ]
    }
   ],
   "source": [
    "filt = Implement_Notch_Filter(0.002,10,51, 3, 2,'butter', data)\n",
    "print(filt)"
   ]
  },
  {
   "cell_type": "code",
   "execution_count": 204,
   "metadata": {},
   "outputs": [
    {
     "data": {
      "text/plain": [
       "[<matplotlib.lines.Line2D at 0x7f4194aee240>]"
      ]
     },
     "execution_count": 204,
     "metadata": {},
     "output_type": "execute_result"
    }
   ],
   "source": [
    "f = plt.figure(1)\n",
    "plt.plot(filt)"
   ]
  },
  {
   "cell_type": "code",
   "execution_count": null,
   "metadata": {},
   "outputs": [],
   "source": []
  },
  {
   "cell_type": "code",
   "execution_count": null,
   "metadata": {},
   "outputs": [],
   "source": []
  },
  {
   "cell_type": "code",
   "execution_count": null,
   "metadata": {},
   "outputs": [],
   "source": []
  }
 ],
 "metadata": {
  "kernelspec": {
   "display_name": "Python 3",
   "language": "python",
   "name": "python3"
  },
  "language_info": {
   "codemirror_mode": {
    "name": "ipython",
    "version": 3
   },
   "file_extension": ".py",
   "mimetype": "text/x-python",
   "name": "python",
   "nbconvert_exporter": "python",
   "pygments_lexer": "ipython3",
   "version": "3.7.3"
  }
 },
 "nbformat": 4,
 "nbformat_minor": 2
}
