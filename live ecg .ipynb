{
 "cells": [
  {
   "cell_type": "code",
   "execution_count": null,
   "metadata": {},
   "outputs": [],
   "source": [
    "\n",
    "import matplotlib.pyplot as plt\n",
    "from drawnow import *\n",
    "import serial\n",
    "\n",
    "values = []\n",
    "\n",
    "plt.ion()\n",
    "cnt=0\n",
    "\n",
    "serialArduino = serial.Serial('COM19', 9600,timeout=1)\n",
    "\n",
    "def plotValues():\n",
    "    plt.title('Serial value from Arduino')\n",
    "    plt.grid(True)\n",
    "    plt.ylabel('Values')\n",
    "    plt.plot(values, 'rx-', label='values')\n",
    "    plt.legend(loc='upper right')\n",
    "\n",
    "#pre-load dummy data\n",
    "\n",
    "    \n",
    "while True:\n",
    "    while (serialArduino.inWaiting()==0):\n",
    "        pass\n",
    "    valueRead = serialArduino.readline()\n",
    "\n",
    "    #check if valid value can be casted\n",
    "    try:\n",
    "        valueInInt = int(valueRead)\n",
    "        print(valueInInt)\n",
    "        values.append(valueInInt)\n",
    "        values.pop(0)\n",
    "        drawnow(plotValues)\n",
    "           \n",
    "       \n",
    "    except ValueError:\n",
    "        print(\"Invalid! cannot cast\")\n",
    "    "
   ]
  },
  {
   "cell_type": "code",
   "execution_count": 3,
   "metadata": {},
   "outputs": [
    {
     "ename": "ModuleNotFoundError",
     "evalue": "No module named 'pyqtgraph'",
     "output_type": "error",
     "traceback": [
      "\u001b[1;31m---------------------------------------------------------------------------\u001b[0m",
      "\u001b[1;31mModuleNotFoundError\u001b[0m                       Traceback (most recent call last)",
      "\u001b[1;32m<ipython-input-3-4dd2a4e90b2b>\u001b[0m in \u001b[0;36m<module>\u001b[1;34m()\u001b[0m\n\u001b[1;32m----> 1\u001b[1;33m \u001b[1;32mfrom\u001b[0m \u001b[0mpyqtgraph\u001b[0m\u001b[1;33m.\u001b[0m\u001b[0mQt\u001b[0m \u001b[1;32mimport\u001b[0m \u001b[0mQtGui\u001b[0m\u001b[1;33m,\u001b[0m \u001b[0mQtCore\u001b[0m\u001b[1;33m\u001b[0m\u001b[0m\n\u001b[0m\u001b[0;32m      2\u001b[0m \u001b[1;32mimport\u001b[0m \u001b[0mnumpy\u001b[0m \u001b[1;32mas\u001b[0m \u001b[0mnp\u001b[0m\u001b[1;33m\u001b[0m\u001b[0m\n\u001b[0;32m      3\u001b[0m \u001b[1;32mimport\u001b[0m \u001b[0mpyqtgraph\u001b[0m \u001b[1;32mas\u001b[0m \u001b[0mpg\u001b[0m\u001b[1;33m\u001b[0m\u001b[0m\n\u001b[0;32m      4\u001b[0m \u001b[1;32mfrom\u001b[0m \u001b[0mpyqtgraph\u001b[0m\u001b[1;33m.\u001b[0m\u001b[0mptime\u001b[0m \u001b[1;32mimport\u001b[0m \u001b[0mtime\u001b[0m\u001b[1;33m\u001b[0m\u001b[0m\n\u001b[0;32m      5\u001b[0m \u001b[1;32mimport\u001b[0m \u001b[0mserial\u001b[0m\u001b[1;33m\u001b[0m\u001b[0m\n",
      "\u001b[1;31mModuleNotFoundError\u001b[0m: No module named 'pyqtgraph'"
     ]
    }
   ],
   "source": [
    "from pyqtgraph.Qt import QtGui, QtCore\n",
    "import numpy as np\n",
    "import pyqtgraph as pg\n",
    "from pyqtgraph.ptime import time\n",
    "import serial\n",
    "\n",
    "app = QtGui.QApplication([])\n",
    "\n",
    "p = pg.plot()\n",
    "p.setWindowTitle('live plot from serial')\n",
    "curve = p.plot()\n",
    "\n",
    "data = [0]\n",
    "raw=serial.Serial(\"COM19\",9600)\n",
    "raw.open()\n",
    "ptr = 0\n",
    "\n",
    "def update():\n",
    "    global curve, data, ptr\n",
    "    line = raw.readline()\n",
    "    data.append(int(line))\n",
    "    xdata = np.array(data, dtype='float64')\n",
    "    print (xdata)\n",
    "    curve.setData(xdata)\n",
    "    ptr += 1\n",
    "    app.processEvents()\n",
    "\n",
    "timer = QtCore.QTimer()\n",
    "timer.timeout.connect(update)\n",
    "timer.start(0)\n",
    "\n",
    "if __name__ == '__main__':\n",
    "    import sys\n",
    "    if (sys.flags.interactive != 1) or not hasattr(QtCore, 'PYQT_VERSION'):\n",
    "        QtGui.QApplication.instance().exec_()"
   ]
  },
  {
   "cell_type": "code",
   "execution_count": null,
   "metadata": {},
   "outputs": [],
   "source": []
  }
 ],
 "metadata": {
  "kernelspec": {
   "display_name": "Python 3",
   "language": "python",
   "name": "python3"
  },
  "language_info": {
   "codemirror_mode": {
    "name": "ipython",
    "version": 3
   },
   "file_extension": ".py",
   "mimetype": "text/x-python",
   "name": "python",
   "nbconvert_exporter": "python",
   "pygments_lexer": "ipython3",
   "version": "3.7.3"
  }
 },
 "nbformat": 4,
 "nbformat_minor": 2
}
