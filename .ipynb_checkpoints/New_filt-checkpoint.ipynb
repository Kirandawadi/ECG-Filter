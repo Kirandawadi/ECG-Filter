{
 "cells": [
  {
   "cell_type": "code",
   "execution_count": 9,
   "metadata": {},
   "outputs": [],
   "source": [
    "# Required input defintions are as follows;\n",
    "# time:   Time between samples\n",
    "# band:   The bandwidth around the centerline freqency that you wish to filter\n",
    "# freq:   The centerline frequency to be filtered\n",
    "# ripple: The maximum passband ripple that is allowed in db.\n",
    "         # For Chebyshev and elliptic filters, provides the maximum ripple in the passband. (dB)\n",
    "# order:  The filter order.  For FIR notch filters this is best set to 2 or 3,\n",
    "#         IIR filters are best suited for high values of order.  This algorithm\n",
    "#         is hard coded to FIR filters\n",
    "# filter_type: 'butter', 'bessel', 'cheby1', 'cheby2', 'ellip'\n",
    "# data:         the data to be filtered\n",
    "def Implement_Notch_Filter(time, band, freq, ripple, order, filter_type, data):\n",
    "    from scipy.signal import iirfilter\n",
    "    fs   = 500.0\n",
    "    nyq  = fs/2.0\n",
    "    low  = freq - band/2.0\n",
    "    high = freq + band/2.0\n",
    "    low  = low/nyq\n",
    "    high = high/nyq\n",
    "    b, a = iirfilter(order, [low, high], rp=ripple, btype='bandstop',\n",
    "                     analog=False, ftype='butter')\n",
    "    filtered_data = lfilter(b, a, data)\n",
    "    return filtered_data"
   ]
  },
  {
   "cell_type": "code",
   "execution_count": 59,
   "metadata": {},
   "outputs": [
    {
     "name": "stdout",
     "output_type": "stream",
     "text": [
      "Using matplotlib backend: Qt5Agg\n"
     ]
    }
   ],
   "source": [
    "import matplotlib.pyplot as san\n",
    "%matplotlib"
   ]
  },
  {
   "cell_type": "code",
   "execution_count": 54,
   "metadata": {},
   "outputs": [],
   "source": [
    "f = open('new.txt','r')"
   ]
  },
  {
   "cell_type": "code",
   "execution_count": 55,
   "metadata": {},
   "outputs": [
    {
     "name": "stdout",
     "output_type": "stream",
     "text": [
      "[324, 329, 330, 330, 335, 336, 333, 338, 339, 336, 343, 345, 343, 348, 351, 371, 372, 372, 373, 373, 374, 377, 379, 381, 382, 384, 385, 386, 387, 387, 387, 394, 397, 395, 398, 397, 391, 389, 385, 378, 372, 366, 357, 349, 346, 340, 331, 331, 327, 321, 323, 321, 318, 319, 319, 315, 316, 317, 316, 315, 318, 319, 316, 319, 319, 315, 319, 319, 317, 319, 320, 317, 317, 319, 318, 315, 318, 316, 313, 316, 316, 311, 314, 315, 311, 314, 315, 312, 312, 313, 313, 310, 314, 313, 309, 313, 312, 309, 313, 312, 310, 313, 313, 310, 310, 311, 309, 309, 311, 310, 307, 310, 310, 306, 309, 309, 306, 308, 309, 308, 313, 317, 315, 311, 314, 313, 309, 310, 308, 303, 305, 305, 301, 305, 305, 302, 303, 311, 335, 383, 427, 418, 316, 228, 198, 212, 251, 280, 297, 308, 311, 311, 314, 316, 317, 316, 320, 321, 320, 325, 327, 325, 331, 333, 332, 338, 342, 343, 347, 353, 355, 360, 367, 371, 372, 379, 382, 380, 385, 384, 378, 377, 372, 364, 359, 353, 345, 337, 334, 328, 320, 320, 315, 309, 311, 309, 304, 306, 305, 303, 304, 305, 304, 303, 306, 306, 303, 307, 307, 304, 308, 308, 305, 309, 309, 306, 307, 308, 306, 305, 307, 306, 303, 307, 307, 303, 306, 306, 303, 306, 305, 302, 304, 306, 304, 303, 306, 306, 303, 306, 306, 302, 306, 307, 304, 307, 307, 304, 306, 307, 305, 305, 307, 307, 304, 308, 308, 304, 308, 308, 304, 308, 308, 306, 308, 311, 314, 315, 317, 315, 312, 316, 314, 309, 309]\n"
     ]
    }
   ],
   "source": [
    "c = f.readlines()\n",
    "data = [int(i[:-1]) for i in c]\n",
    "print(data)"
   ]
  },
  {
   "cell_type": "code",
   "execution_count": 61,
   "metadata": {},
   "outputs": [
    {
     "ename": "NameError",
     "evalue": "name 'dat' is not defined",
     "output_type": "error",
     "traceback": [
      "\u001b[0;31m---------------------------------------------------------------------------\u001b[0m",
      "\u001b[0;31mNameError\u001b[0m                                 Traceback (most recent call last)",
      "\u001b[0;32m<ipython-input-61-1564e6d27e15>\u001b[0m in \u001b[0;36m<module>\u001b[0;34m\u001b[0m\n\u001b[1;32m      1\u001b[0m \u001b[0mf\u001b[0m \u001b[0;34m=\u001b[0m \u001b[0mplt\u001b[0m\u001b[0;34m.\u001b[0m\u001b[0mfigure\u001b[0m\u001b[0;34m(\u001b[0m\u001b[0;36m1\u001b[0m\u001b[0;34m)\u001b[0m\u001b[0;34m\u001b[0m\u001b[0;34m\u001b[0m\u001b[0m\n\u001b[0;32m----> 2\u001b[0;31m \u001b[0msan\u001b[0m\u001b[0;34m.\u001b[0m\u001b[0mplot\u001b[0m\u001b[0;34m(\u001b[0m\u001b[0mdat\u001b[0m\u001b[0;34m)\u001b[0m\u001b[0;34m\u001b[0m\u001b[0;34m\u001b[0m\u001b[0m\n\u001b[0m",
      "\u001b[0;31mNameError\u001b[0m: name 'dat' is not defined"
     ]
    }
   ],
   "source": [
    "f = plt.figure(1)\n",
    "san.plot(data)"
   ]
  },
  {
   "cell_type": "code",
   "execution_count": null,
   "metadata": {},
   "outputs": [],
   "source": []
  }
 ],
 "metadata": {
  "kernelspec": {
   "display_name": "Python 3",
   "language": "python",
   "name": "python3"
  },
  "language_info": {
   "codemirror_mode": {
    "name": "ipython",
    "version": 3
   },
   "file_extension": ".py",
   "mimetype": "text/x-python",
   "name": "python",
   "nbconvert_exporter": "python",
   "pygments_lexer": "ipython3",
   "version": "3.7.3"
  }
 },
 "nbformat": 4,
 "nbformat_minor": 2
}
